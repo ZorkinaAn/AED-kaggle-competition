{
 "cells": [
  {
   "cell_type": "markdown",
   "metadata": {},
   "source": [
    "# AST model solution"
   ]
  },
  {
   "cell_type": "code",
   "execution_count": 1,
   "metadata": {},
   "outputs": [],
   "source": [
    "import os.path as path\n",
    "import os\n",
    "import pickle\n",
    "from enum import Enum\n",
    "from typing import NoReturn, Optional\n",
    "from tqdm import tqdm\n",
    "import random\n",
    "from pprint import pprint\n",
    "import pandas as pd\n",
    "import numpy as np\n",
    "import time\n",
    "\n",
    "import librosa\n",
    "import librosa.feature as audio_F\n",
    "\n",
    "from sklearn.model_selection import train_test_split\n",
    "from sklearn.metrics import f1_score\n",
    "\n",
    "import torch\n",
    "import torch.nn as nn\n",
    "import torch.nn.functional as nn_F\n",
    "from torch.utils.data import Dataset\n",
    "from torch.utils.data import DataLoader\n",
    "import torchaudio\n",
    "import torchaudio.transforms as T\n",
    "\n",
    "from transformers import ASTFeatureExtractor\n",
    "from transformers import AutoModelForAudioClassification\n",
    "\n",
    "import matplotlib.pyplot as plt\n",
    "\n",
    "from IPython.display import Audio\n",
    "\n",
    "import warnings\n",
    "warnings.filterwarnings('ignore')"
   ]
  },
  {
   "cell_type": "code",
   "execution_count": 2,
   "metadata": {},
   "outputs": [],
   "source": [
    "torch.cuda.empty_cache()"
   ]
  },
  {
   "cell_type": "code",
   "execution_count": 3,
   "metadata": {},
   "outputs": [
    {
     "name": "stdout",
     "output_type": "stream",
     "text": [
      "device='cuda'\n",
      "num_workers=0, cpu_count=4\n",
      "env: CUBLAS_WORKSPACE_CONFIG=:4096:8\n",
      "env: PYTHONHASHSEED=42\n"
     ]
    }
   ],
   "source": [
    "device = device = \"cuda\" if torch.cuda.is_available() else \"cpu\"\n",
    "print(f'{device=}')\n",
    "\n",
    "cpu_count = os.cpu_count()\n",
    "num_workers = cpu_count if device == \"cpu\" else 0\n",
    "print(f'{num_workers=}, {cpu_count=}')\n",
    "\n",
    "def set_random_state(random_state:int=0) -> NoReturn:\n",
    "    \"\"\"Initialize random generators.\n",
    "\n",
    "    Parameters\n",
    "    ==========\n",
    "    random_state : int = 0\n",
    "        Determines random number generation for centroid initialization.\n",
    "        Use an int to make the randomness deterministic.\n",
    "    \"\"\"\n",
    "    torch.manual_seed(random_state)\n",
    "    random.seed(random_state)\n",
    "    np.random.seed(random_state)\n",
    "\n",
    "    if torch.cuda.is_available():\n",
    "        torch.cuda.manual_seed_all(random_state)\n",
    "        torch.cuda.manual_seed(random_state)\n",
    "\n",
    "        torch.backends.cudnn.deterministic = True\n",
    "        torch.backends.cudnn.benchmark = False\n",
    "    return\n",
    "\n",
    "random_state = 42\n",
    "set_random_state(random_state)\n",
    "torch.use_deterministic_algorithms(True)\n",
    "\n",
    "%env CUBLAS_WORKSPACE_CONFIG=:4096:8\n",
    "%env PYTHONHASHSEED=42"
   ]
  },
  {
   "cell_type": "code",
   "execution_count": 4,
   "metadata": {},
   "outputs": [],
   "source": [
    "base_folder = \"/home/ext-zorkina-a@ad.speechpro.com/ZorkinaAnastasia/audio_analytics/kaggle\"\n",
    "train_folder = path.join(base_folder, \"data/audio_train/train\")\n",
    "train_csv = path.join(base_folder, \"data/train.csv\")\n",
    "train_pickle = path.join(base_folder, \"data/train16k.pickle\")\n",
    "labels_pickle = path.join(base_folder, \"data/labels16k.pickle\")\n",
    "test_folder = path.join(base_folder, \"data/audio_test/test\")\n",
    "test_pickle = path.join(base_folder, \"data/test16k.pickle\")\n",
    "test_csv = path.join(base_folder, \"data/sample_submission.csv\")\n",
    "test_labels_pickle = path.join(base_folder, \"data/test_labels16k.pickle\")"
   ]
  },
  {
   "cell_type": "markdown",
   "metadata": {},
   "source": [
    "## Предобработка данных с помощью ASTFeatureExtractor()"
   ]
  },
  {
   "cell_type": "markdown",
   "metadata": {},
   "source": [
    "We can prepare the audio using ASTFeatureExtractor, which turns it into a tensor of shape (batch_size, time_dimension, frequency_dimension).  \n",
    "\n",
    "ASTFeatureExtractor использует ta_kaldi.fbank, которая возвращает фичи - мел-спектрограммы, нормальзует их (в качсетве параметров нормализации используются значения mean и std с AudioSet) и дополняет/обрезает до заданной длины. "
   ]
  },
  {
   "cell_type": "code",
   "execution_count": 5,
   "metadata": {},
   "outputs": [],
   "source": [
    "from transformers import ASTFeatureExtractor\n",
    "\n",
    "feature_extractor = ASTFeatureExtractor()"
   ]
  },
  {
   "cell_type": "code",
   "execution_count": 6,
   "metadata": {},
   "outputs": [],
   "source": [
    "class SetType(Enum):\n",
    "    \"\"\"Set type\"\"\"\n",
    "    TRAIN = 1\n",
    "    TEST  = 2\n",
    "    DEV   = 3\n",
    "\n",
    "\n",
    "def extract_feats(set_type:SetType, path_to_csv:str, path_to_files:str,\n",
    "                          out_path:str, labels_pickle:str):\n",
    "   \n",
    "    if set_type not in [SetType.TRAIN, SetType.TEST]:\n",
    "        raise Exception(f'Such set type not supported: {set_type}')\n",
    "\n",
    "    feats = []\n",
    "\n",
    "    if set_type == SetType.TRAIN:\n",
    "        meta = pd.read_csv(path_to_csv, skiprows=1, names=['fname', 'label'])\n",
    "\n",
    "        file_names = list(meta['fname'])\n",
    "        n_files = len(file_names)\n",
    "        labels = list(meta['label'])\n",
    "\n",
    "        uniq_labels = np.sort(np.unique(labels))\n",
    "        label_to_id = {label: i for i, label in enumerate(uniq_labels)}\n",
    "\n",
    "        print('Total files:', n_files)\n",
    "\n",
    "        for i, (file_name, label) in tqdm(enumerate(zip(file_names, labels))):\n",
    "            waveform, sampling_rate = torchaudio.load(os.path.join(train_folder, file_name))\n",
    "            waveform = waveform.squeeze().numpy()\n",
    "            inputs = feature_extractor(waveform, sampling_rate=sampling_rate, padding=\"max_length\", return_tensors=\"pt\")\n",
    "            input_values = inputs.input_values\n",
    "            feats.append({\n",
    "                'fname': file_name,\n",
    "                'feature': input_values,\n",
    "                'label_id': label_to_id[label]\n",
    "            })\n",
    "\n",
    "        pickle.dump(feats, open(out_path, 'wb'))\n",
    "        pickle.dump(label_to_id, open(labels_pickle, 'wb'))\n",
    "        return label_to_id\n",
    "    else:\n",
    "        for i, file_name in tqdm(enumerate(os.listdir(path_to_files))):\n",
    "            waveform, sampling_rate = torchaudio.load(os.path.join(test_folder, file_name))\n",
    "            waveform = waveform.squeeze().numpy()\n",
    "            inputs = feature_extractor(waveform, sampling_rate=sampling_rate, padding=\"max_length\", return_tensors=\"pt\")\n",
    "            input_values = inputs.input_values\n",
    "            feats.append({\n",
    "                'fname': file_name,\n",
    "                'feature': input_values,\n",
    "            })\n",
    "\n",
    "        pickle.dump(feats, open(out_path, 'wb'))\n",
    "        return"
   ]
  },
  {
   "cell_type": "code",
   "execution_count": 7,
   "metadata": {},
   "outputs": [
    {
     "name": "stdout",
     "output_type": "stream",
     "text": [
      "Total files: 5683\n"
     ]
    },
    {
     "name": "stderr",
     "output_type": "stream",
     "text": [
      "5683it [02:04, 45.71it/s]\n"
     ]
    }
   ],
   "source": [
    "# extract train features and store to `train_pickle` extracted features\n",
    "label_to_id = extract_feats(\n",
    "    SetType.TRAIN,\n",
    "    train_csv, \n",
    "    train_folder, \n",
    "    train_pickle,\n",
    "    labels_pickle\n",
    ")\n",
    "\n",
    "id_to_label = [label for label, i in label_to_id.items()]"
   ]
  },
  {
   "cell_type": "code",
   "execution_count": 114,
   "metadata": {},
   "outputs": [
    {
     "name": "stderr",
     "output_type": "stream",
     "text": [
      "3790it [01:37, 38.87it/s]\n"
     ]
    }
   ],
   "source": [
    "# extract test features and store to `test_pickle` extracted features\n",
    "extract_feats(\n",
    "    SetType.TEST,\n",
    "    test_csv, \n",
    "    test_folder, \n",
    "    test_pickle,\n",
    "    test_labels_pickle\n",
    ")"
   ]
  },
  {
   "cell_type": "markdown",
   "metadata": {},
   "source": [
    "Загрузим полученные данные и подготовим их для обучения"
   ]
  },
  {
   "cell_type": "code",
   "execution_count": 7,
   "metadata": {},
   "outputs": [],
   "source": [
    "test_data = pickle.load(open(test_pickle, \"rb\"))\n",
    "train_data = pickle.load(open(train_pickle, \"rb\"))\n",
    "label_to_id = pickle.load(open(labels_pickle, \"rb\"))\n",
    "id_to_label = [label for label, i in label_to_id.items()]"
   ]
  },
  {
   "cell_type": "code",
   "execution_count": 9,
   "metadata": {},
   "outputs": [
    {
     "data": {
      "text/plain": [
       "torch.Size([1, 1024, 128])"
      ]
     },
     "execution_count": 9,
     "metadata": {},
     "output_type": "execute_result"
    }
   ],
   "source": [
    "train_data[100]['feature'].shape"
   ]
  },
  {
   "cell_type": "code",
   "execution_count": 10,
   "metadata": {},
   "outputs": [],
   "source": [
    "x = []\n",
    "y = []\n",
    "\n",
    "for i, row in enumerate(train_data):\n",
    "        x.append(row['feature'])\n",
    "        y.append(row['label_id'])\n",
    "\n",
    "x_tr, x_val, y_tr, y_val = train_test_split(x, y, test_size=800, random_state=random_state, stratify=y)"
   ]
  },
  {
   "cell_type": "code",
   "execution_count": 11,
   "metadata": {},
   "outputs": [],
   "source": [
    "x_test = []\n",
    "\n",
    "for i, row in enumerate(test_data):\n",
    "    feature = row['feature']\n",
    "    x_test.append(feature)"
   ]
  },
  {
   "cell_type": "code",
   "execution_count": 13,
   "metadata": {},
   "outputs": [],
   "source": [
    "class EventDetectionDataset(Dataset):\n",
    "    def __init__(self, x, y=None, device=\"cpu\"):\n",
    "        self.x = x\n",
    "        self.y = y\n",
    "\n",
    "    def __len__(self):\n",
    "        return len(self.x)\n",
    "\n",
    "    def __getitem__(self, idx):\n",
    "        # добавить сюда prepare_shape()\n",
    "        \n",
    "        if self.y is not None:\n",
    "            return \\\n",
    "                torch.tensor(self.x[idx], device=device).squeeze(),\\\n",
    "                torch.tensor(self.y[idx], device=device).squeeze()\n",
    "\n",
    "        return torch.tensor(self.x[idx], device=device).squeeze()"
   ]
  },
  {
   "cell_type": "code",
   "execution_count": 14,
   "metadata": {},
   "outputs": [],
   "source": [
    "train_dset = EventDetectionDataset(x_tr, y_tr, device=device)\n",
    "val_dset = EventDetectionDataset(x_val, y_val, device=device)"
   ]
  },
  {
   "cell_type": "code",
   "execution_count": 42,
   "metadata": {},
   "outputs": [],
   "source": [
    "train_loader = DataLoader(train_dset, batch_size=30, shuffle=True, num_workers=num_workers)\n",
    "val_loader = DataLoader(val_dset, batch_size=30, shuffle=False, num_workers=num_workers)"
   ]
  },
  {
   "cell_type": "markdown",
   "metadata": {},
   "source": [
    "## Загрузка модели"
   ]
  },
  {
   "cell_type": "markdown",
   "metadata": {},
   "source": [
    "Загружаем предобученную модель с помощью библиотеки transformers от Hugging Face. Использумеая версия модели \"ast-finetuned-audioset-10-10-0.4593\". Модель была загружена локально, для загрузки с HuggingFace использовать \n",
    "ASTForAudioClassification.from_pretrained(\"MIT/ast-finetuned-audioset-10-10-0.4593\")"
   ]
  },
  {
   "cell_type": "code",
   "execution_count": 43,
   "metadata": {},
   "outputs": [],
   "source": [
    "from transformers import ASTFeatureExtractor\n",
    "from transformers import AutoModelForAudioClassification"
   ]
  },
  {
   "cell_type": "code",
   "execution_count": 44,
   "metadata": {},
   "outputs": [
    {
     "name": "stderr",
     "output_type": "stream",
     "text": [
      "Some weights of ASTForAudioClassification were not initialized from the model checkpoint at /home/ext-zorkina-a@ad.speechpro.com/ZorkinaAnastasia/audio_analytics/kaggle/ast-finetuned-audioset-10-10-0.4593 and are newly initialized because the shapes did not match:\n",
      "- classifier.dense.weight: found shape torch.Size([527, 768]) in the checkpoint and torch.Size([41, 768]) in the model instantiated\n",
      "- classifier.dense.bias: found shape torch.Size([527]) in the checkpoint and torch.Size([41]) in the model instantiated\n",
      "You should probably TRAIN this model on a down-stream task to be able to use it for predictions and inference.\n"
     ]
    }
   ],
   "source": [
    "model_checkpoint = path.join(base_folder, \"ast-finetuned-audioset-10-10-0.4593\")\n",
    "num_labels = len(id_to_label)\n",
    "AST_model = AutoModelForAudioClassification.from_pretrained(\n",
    "    model_checkpoint,\n",
    "    num_labels=num_labels,\n",
    "    label2id=label_to_id,\n",
    "    id2label=id_to_label,\n",
    "    ignore_mismatched_sizes=True)"
   ]
  },
  {
   "cell_type": "markdown",
   "metadata": {},
   "source": [
    "Посмотрим на структуру модели"
   ]
  },
  {
   "cell_type": "code",
   "execution_count": 45,
   "metadata": {},
   "outputs": [
    {
     "data": {
      "text/plain": [
       "ASTForAudioClassification(\n",
       "  (audio_spectrogram_transformer): ASTModel(\n",
       "    (embeddings): ASTEmbeddings(\n",
       "      (patch_embeddings): ASTPatchEmbeddings(\n",
       "        (projection): Conv2d(1, 768, kernel_size=(16, 16), stride=(10, 10))\n",
       "      )\n",
       "      (dropout): Dropout(p=0.0, inplace=False)\n",
       "    )\n",
       "    (encoder): ASTEncoder(\n",
       "      (layer): ModuleList(\n",
       "        (0-11): 12 x ASTLayer(\n",
       "          (attention): ASTAttention(\n",
       "            (attention): ASTSelfAttention(\n",
       "              (query): Linear(in_features=768, out_features=768, bias=True)\n",
       "              (key): Linear(in_features=768, out_features=768, bias=True)\n",
       "              (value): Linear(in_features=768, out_features=768, bias=True)\n",
       "              (dropout): Dropout(p=0.0, inplace=False)\n",
       "            )\n",
       "            (output): ASTSelfOutput(\n",
       "              (dense): Linear(in_features=768, out_features=768, bias=True)\n",
       "              (dropout): Dropout(p=0.0, inplace=False)\n",
       "            )\n",
       "          )\n",
       "          (intermediate): ASTIntermediate(\n",
       "            (dense): Linear(in_features=768, out_features=3072, bias=True)\n",
       "            (intermediate_act_fn): GELUActivation()\n",
       "          )\n",
       "          (output): ASTOutput(\n",
       "            (dense): Linear(in_features=3072, out_features=768, bias=True)\n",
       "            (dropout): Dropout(p=0.0, inplace=False)\n",
       "          )\n",
       "          (layernorm_before): LayerNorm((768,), eps=1e-12, elementwise_affine=True)\n",
       "          (layernorm_after): LayerNorm((768,), eps=1e-12, elementwise_affine=True)\n",
       "        )\n",
       "      )\n",
       "    )\n",
       "    (layernorm): LayerNorm((768,), eps=1e-12, elementwise_affine=True)\n",
       "  )\n",
       "  (classifier): ASTMLPHead(\n",
       "    (layernorm): LayerNorm((768,), eps=1e-12, elementwise_affine=True)\n",
       "    (dense): Linear(in_features=768, out_features=41, bias=True)\n",
       "  )\n",
       ")"
      ]
     },
     "execution_count": 45,
     "metadata": {},
     "output_type": "execute_result"
    }
   ],
   "source": [
    "AST_model"
   ]
  },
  {
   "cell_type": "markdown",
   "metadata": {},
   "source": [
    "Чтобы дообучить модель на нашу задачу, заменим последний слой классификатора ASTMLPHead. "
   ]
  },
  {
   "cell_type": "code",
   "execution_count": 212,
   "metadata": {},
   "outputs": [],
   "source": [
    "AST_model.classifier = nn.Sequential(\n",
    "    nn.Linear(768, 128),\n",
    "    nn.ReLU(),\n",
    "    nn.Linear(128, 41)\n",
    ")"
   ]
  },
  {
   "cell_type": "code",
   "execution_count": 72,
   "metadata": {},
   "outputs": [],
   "source": [
    "#вариант со сверточным слоем\n",
    "AST_model.classifier = nn.Sequential(\n",
    "    nn.Unflatten(1, (1,768)),\n",
    "    nn.Conv1d(1,  10, kernel_size=5, stride=2, device=device),\n",
    "    nn.ReLU(),\n",
    "    nn.Flatten(),\n",
    "    nn.Linear(3820, 41),\n",
    ")"
   ]
  },
  {
   "cell_type": "code",
   "execution_count": 73,
   "metadata": {},
   "outputs": [],
   "source": [
    "# для правильного сохранения модели\n",
    "AST_model.config.id2label = {id: label for id, label in enumerate(id_to_label)}"
   ]
  },
  {
   "cell_type": "code",
   "execution_count": 74,
   "metadata": {},
   "outputs": [],
   "source": [
    "# AST_model.config.max_length = 256"
   ]
  },
  {
   "cell_type": "markdown",
   "metadata": {},
   "source": [
    "Заморозим все слои кроме классификатора и перенесем модель на gpu"
   ]
  },
  {
   "cell_type": "code",
   "execution_count": 75,
   "metadata": {},
   "outputs": [
    {
     "data": {
      "text/plain": [
       "Sequential(\n",
       "  (0): Unflatten(dim=1, unflattened_size=(1, 768))\n",
       "  (1): Conv1d(1, 10, kernel_size=(5,), stride=(2,))\n",
       "  (2): ReLU()\n",
       "  (3): Flatten(start_dim=1, end_dim=-1)\n",
       "  (4): Linear(in_features=3820, out_features=41, bias=True)\n",
       ")"
      ]
     },
     "execution_count": 75,
     "metadata": {},
     "output_type": "execute_result"
    }
   ],
   "source": [
    "AST_model.requires_grad_(False)\n",
    "AST_model.classifier.requires_grad_(True)"
   ]
  },
  {
   "cell_type": "code",
   "execution_count": 76,
   "metadata": {},
   "outputs": [],
   "source": [
    "AST_model = AST_model.to(device)"
   ]
  },
  {
   "cell_type": "code",
   "execution_count": 22,
   "metadata": {},
   "outputs": [
    {
     "name": "stdout",
     "output_type": "stream",
     "text": [
      "audio_spectrogram_transformer.embeddings.cls_token False\n",
      "audio_spectrogram_transformer.embeddings.distillation_token False\n",
      "audio_spectrogram_transformer.embeddings.position_embeddings False\n",
      "audio_spectrogram_transformer.embeddings.patch_embeddings.projection.weight False\n",
      "audio_spectrogram_transformer.embeddings.patch_embeddings.projection.bias False\n",
      "audio_spectrogram_transformer.encoder.layer.0.attention.attention.query.weight False\n",
      "audio_spectrogram_transformer.encoder.layer.0.attention.attention.query.bias False\n",
      "audio_spectrogram_transformer.encoder.layer.0.attention.attention.key.weight False\n",
      "audio_spectrogram_transformer.encoder.layer.0.attention.attention.key.bias False\n",
      "audio_spectrogram_transformer.encoder.layer.0.attention.attention.value.weight False\n",
      "audio_spectrogram_transformer.encoder.layer.0.attention.attention.value.bias False\n",
      "audio_spectrogram_transformer.encoder.layer.0.attention.output.dense.weight False\n",
      "audio_spectrogram_transformer.encoder.layer.0.attention.output.dense.bias False\n",
      "audio_spectrogram_transformer.encoder.layer.0.intermediate.dense.weight False\n",
      "audio_spectrogram_transformer.encoder.layer.0.intermediate.dense.bias False\n",
      "audio_spectrogram_transformer.encoder.layer.0.output.dense.weight False\n",
      "audio_spectrogram_transformer.encoder.layer.0.output.dense.bias False\n",
      "audio_spectrogram_transformer.encoder.layer.0.layernorm_before.weight False\n",
      "audio_spectrogram_transformer.encoder.layer.0.layernorm_before.bias False\n",
      "audio_spectrogram_transformer.encoder.layer.0.layernorm_after.weight False\n",
      "audio_spectrogram_transformer.encoder.layer.0.layernorm_after.bias False\n",
      "audio_spectrogram_transformer.encoder.layer.1.attention.attention.query.weight False\n",
      "audio_spectrogram_transformer.encoder.layer.1.attention.attention.query.bias False\n",
      "audio_spectrogram_transformer.encoder.layer.1.attention.attention.key.weight False\n",
      "audio_spectrogram_transformer.encoder.layer.1.attention.attention.key.bias False\n",
      "audio_spectrogram_transformer.encoder.layer.1.attention.attention.value.weight False\n",
      "audio_spectrogram_transformer.encoder.layer.1.attention.attention.value.bias False\n",
      "audio_spectrogram_transformer.encoder.layer.1.attention.output.dense.weight False\n",
      "audio_spectrogram_transformer.encoder.layer.1.attention.output.dense.bias False\n",
      "audio_spectrogram_transformer.encoder.layer.1.intermediate.dense.weight False\n",
      "audio_spectrogram_transformer.encoder.layer.1.intermediate.dense.bias False\n",
      "audio_spectrogram_transformer.encoder.layer.1.output.dense.weight False\n",
      "audio_spectrogram_transformer.encoder.layer.1.output.dense.bias False\n",
      "audio_spectrogram_transformer.encoder.layer.1.layernorm_before.weight False\n",
      "audio_spectrogram_transformer.encoder.layer.1.layernorm_before.bias False\n",
      "audio_spectrogram_transformer.encoder.layer.1.layernorm_after.weight False\n",
      "audio_spectrogram_transformer.encoder.layer.1.layernorm_after.bias False\n",
      "audio_spectrogram_transformer.encoder.layer.2.attention.attention.query.weight False\n",
      "audio_spectrogram_transformer.encoder.layer.2.attention.attention.query.bias False\n",
      "audio_spectrogram_transformer.encoder.layer.2.attention.attention.key.weight False\n",
      "audio_spectrogram_transformer.encoder.layer.2.attention.attention.key.bias False\n",
      "audio_spectrogram_transformer.encoder.layer.2.attention.attention.value.weight False\n",
      "audio_spectrogram_transformer.encoder.layer.2.attention.attention.value.bias False\n",
      "audio_spectrogram_transformer.encoder.layer.2.attention.output.dense.weight False\n",
      "audio_spectrogram_transformer.encoder.layer.2.attention.output.dense.bias False\n",
      "audio_spectrogram_transformer.encoder.layer.2.intermediate.dense.weight False\n",
      "audio_spectrogram_transformer.encoder.layer.2.intermediate.dense.bias False\n",
      "audio_spectrogram_transformer.encoder.layer.2.output.dense.weight False\n",
      "audio_spectrogram_transformer.encoder.layer.2.output.dense.bias False\n",
      "audio_spectrogram_transformer.encoder.layer.2.layernorm_before.weight False\n",
      "audio_spectrogram_transformer.encoder.layer.2.layernorm_before.bias False\n",
      "audio_spectrogram_transformer.encoder.layer.2.layernorm_after.weight False\n",
      "audio_spectrogram_transformer.encoder.layer.2.layernorm_after.bias False\n",
      "audio_spectrogram_transformer.encoder.layer.3.attention.attention.query.weight False\n",
      "audio_spectrogram_transformer.encoder.layer.3.attention.attention.query.bias False\n",
      "audio_spectrogram_transformer.encoder.layer.3.attention.attention.key.weight False\n",
      "audio_spectrogram_transformer.encoder.layer.3.attention.attention.key.bias False\n",
      "audio_spectrogram_transformer.encoder.layer.3.attention.attention.value.weight False\n",
      "audio_spectrogram_transformer.encoder.layer.3.attention.attention.value.bias False\n",
      "audio_spectrogram_transformer.encoder.layer.3.attention.output.dense.weight False\n",
      "audio_spectrogram_transformer.encoder.layer.3.attention.output.dense.bias False\n",
      "audio_spectrogram_transformer.encoder.layer.3.intermediate.dense.weight False\n",
      "audio_spectrogram_transformer.encoder.layer.3.intermediate.dense.bias False\n",
      "audio_spectrogram_transformer.encoder.layer.3.output.dense.weight False\n",
      "audio_spectrogram_transformer.encoder.layer.3.output.dense.bias False\n",
      "audio_spectrogram_transformer.encoder.layer.3.layernorm_before.weight False\n",
      "audio_spectrogram_transformer.encoder.layer.3.layernorm_before.bias False\n",
      "audio_spectrogram_transformer.encoder.layer.3.layernorm_after.weight False\n",
      "audio_spectrogram_transformer.encoder.layer.3.layernorm_after.bias False\n",
      "audio_spectrogram_transformer.encoder.layer.4.attention.attention.query.weight False\n",
      "audio_spectrogram_transformer.encoder.layer.4.attention.attention.query.bias False\n",
      "audio_spectrogram_transformer.encoder.layer.4.attention.attention.key.weight False\n",
      "audio_spectrogram_transformer.encoder.layer.4.attention.attention.key.bias False\n",
      "audio_spectrogram_transformer.encoder.layer.4.attention.attention.value.weight False\n",
      "audio_spectrogram_transformer.encoder.layer.4.attention.attention.value.bias False\n",
      "audio_spectrogram_transformer.encoder.layer.4.attention.output.dense.weight False\n",
      "audio_spectrogram_transformer.encoder.layer.4.attention.output.dense.bias False\n",
      "audio_spectrogram_transformer.encoder.layer.4.intermediate.dense.weight False\n",
      "audio_spectrogram_transformer.encoder.layer.4.intermediate.dense.bias False\n",
      "audio_spectrogram_transformer.encoder.layer.4.output.dense.weight False\n",
      "audio_spectrogram_transformer.encoder.layer.4.output.dense.bias False\n",
      "audio_spectrogram_transformer.encoder.layer.4.layernorm_before.weight False\n",
      "audio_spectrogram_transformer.encoder.layer.4.layernorm_before.bias False\n",
      "audio_spectrogram_transformer.encoder.layer.4.layernorm_after.weight False\n",
      "audio_spectrogram_transformer.encoder.layer.4.layernorm_after.bias False\n",
      "audio_spectrogram_transformer.encoder.layer.5.attention.attention.query.weight False\n",
      "audio_spectrogram_transformer.encoder.layer.5.attention.attention.query.bias False\n",
      "audio_spectrogram_transformer.encoder.layer.5.attention.attention.key.weight False\n",
      "audio_spectrogram_transformer.encoder.layer.5.attention.attention.key.bias False\n",
      "audio_spectrogram_transformer.encoder.layer.5.attention.attention.value.weight False\n",
      "audio_spectrogram_transformer.encoder.layer.5.attention.attention.value.bias False\n",
      "audio_spectrogram_transformer.encoder.layer.5.attention.output.dense.weight False\n",
      "audio_spectrogram_transformer.encoder.layer.5.attention.output.dense.bias False\n",
      "audio_spectrogram_transformer.encoder.layer.5.intermediate.dense.weight False\n",
      "audio_spectrogram_transformer.encoder.layer.5.intermediate.dense.bias False\n",
      "audio_spectrogram_transformer.encoder.layer.5.output.dense.weight False\n",
      "audio_spectrogram_transformer.encoder.layer.5.output.dense.bias False\n",
      "audio_spectrogram_transformer.encoder.layer.5.layernorm_before.weight False\n",
      "audio_spectrogram_transformer.encoder.layer.5.layernorm_before.bias False\n",
      "audio_spectrogram_transformer.encoder.layer.5.layernorm_after.weight False\n",
      "audio_spectrogram_transformer.encoder.layer.5.layernorm_after.bias False\n",
      "audio_spectrogram_transformer.encoder.layer.6.attention.attention.query.weight False\n",
      "audio_spectrogram_transformer.encoder.layer.6.attention.attention.query.bias False\n",
      "audio_spectrogram_transformer.encoder.layer.6.attention.attention.key.weight False\n",
      "audio_spectrogram_transformer.encoder.layer.6.attention.attention.key.bias False\n",
      "audio_spectrogram_transformer.encoder.layer.6.attention.attention.value.weight False\n",
      "audio_spectrogram_transformer.encoder.layer.6.attention.attention.value.bias False\n",
      "audio_spectrogram_transformer.encoder.layer.6.attention.output.dense.weight False\n",
      "audio_spectrogram_transformer.encoder.layer.6.attention.output.dense.bias False\n",
      "audio_spectrogram_transformer.encoder.layer.6.intermediate.dense.weight False\n",
      "audio_spectrogram_transformer.encoder.layer.6.intermediate.dense.bias False\n",
      "audio_spectrogram_transformer.encoder.layer.6.output.dense.weight False\n",
      "audio_spectrogram_transformer.encoder.layer.6.output.dense.bias False\n",
      "audio_spectrogram_transformer.encoder.layer.6.layernorm_before.weight False\n",
      "audio_spectrogram_transformer.encoder.layer.6.layernorm_before.bias False\n",
      "audio_spectrogram_transformer.encoder.layer.6.layernorm_after.weight False\n",
      "audio_spectrogram_transformer.encoder.layer.6.layernorm_after.bias False\n",
      "audio_spectrogram_transformer.encoder.layer.7.attention.attention.query.weight False\n",
      "audio_spectrogram_transformer.encoder.layer.7.attention.attention.query.bias False\n",
      "audio_spectrogram_transformer.encoder.layer.7.attention.attention.key.weight False\n",
      "audio_spectrogram_transformer.encoder.layer.7.attention.attention.key.bias False\n",
      "audio_spectrogram_transformer.encoder.layer.7.attention.attention.value.weight False\n",
      "audio_spectrogram_transformer.encoder.layer.7.attention.attention.value.bias False\n",
      "audio_spectrogram_transformer.encoder.layer.7.attention.output.dense.weight False\n",
      "audio_spectrogram_transformer.encoder.layer.7.attention.output.dense.bias False\n",
      "audio_spectrogram_transformer.encoder.layer.7.intermediate.dense.weight False\n",
      "audio_spectrogram_transformer.encoder.layer.7.intermediate.dense.bias False\n",
      "audio_spectrogram_transformer.encoder.layer.7.output.dense.weight False\n",
      "audio_spectrogram_transformer.encoder.layer.7.output.dense.bias False\n",
      "audio_spectrogram_transformer.encoder.layer.7.layernorm_before.weight False\n",
      "audio_spectrogram_transformer.encoder.layer.7.layernorm_before.bias False\n",
      "audio_spectrogram_transformer.encoder.layer.7.layernorm_after.weight False\n",
      "audio_spectrogram_transformer.encoder.layer.7.layernorm_after.bias False\n",
      "audio_spectrogram_transformer.encoder.layer.8.attention.attention.query.weight False\n",
      "audio_spectrogram_transformer.encoder.layer.8.attention.attention.query.bias False\n",
      "audio_spectrogram_transformer.encoder.layer.8.attention.attention.key.weight False\n",
      "audio_spectrogram_transformer.encoder.layer.8.attention.attention.key.bias False\n",
      "audio_spectrogram_transformer.encoder.layer.8.attention.attention.value.weight False\n",
      "audio_spectrogram_transformer.encoder.layer.8.attention.attention.value.bias False\n",
      "audio_spectrogram_transformer.encoder.layer.8.attention.output.dense.weight False\n",
      "audio_spectrogram_transformer.encoder.layer.8.attention.output.dense.bias False\n",
      "audio_spectrogram_transformer.encoder.layer.8.intermediate.dense.weight False\n",
      "audio_spectrogram_transformer.encoder.layer.8.intermediate.dense.bias False\n",
      "audio_spectrogram_transformer.encoder.layer.8.output.dense.weight False\n",
      "audio_spectrogram_transformer.encoder.layer.8.output.dense.bias False\n",
      "audio_spectrogram_transformer.encoder.layer.8.layernorm_before.weight False\n",
      "audio_spectrogram_transformer.encoder.layer.8.layernorm_before.bias False\n",
      "audio_spectrogram_transformer.encoder.layer.8.layernorm_after.weight False\n",
      "audio_spectrogram_transformer.encoder.layer.8.layernorm_after.bias False\n",
      "audio_spectrogram_transformer.encoder.layer.9.attention.attention.query.weight False\n",
      "audio_spectrogram_transformer.encoder.layer.9.attention.attention.query.bias False\n",
      "audio_spectrogram_transformer.encoder.layer.9.attention.attention.key.weight False\n",
      "audio_spectrogram_transformer.encoder.layer.9.attention.attention.key.bias False\n",
      "audio_spectrogram_transformer.encoder.layer.9.attention.attention.value.weight False\n",
      "audio_spectrogram_transformer.encoder.layer.9.attention.attention.value.bias False\n",
      "audio_spectrogram_transformer.encoder.layer.9.attention.output.dense.weight False\n",
      "audio_spectrogram_transformer.encoder.layer.9.attention.output.dense.bias False\n",
      "audio_spectrogram_transformer.encoder.layer.9.intermediate.dense.weight False\n",
      "audio_spectrogram_transformer.encoder.layer.9.intermediate.dense.bias False\n",
      "audio_spectrogram_transformer.encoder.layer.9.output.dense.weight False\n",
      "audio_spectrogram_transformer.encoder.layer.9.output.dense.bias False\n",
      "audio_spectrogram_transformer.encoder.layer.9.layernorm_before.weight False\n",
      "audio_spectrogram_transformer.encoder.layer.9.layernorm_before.bias False\n",
      "audio_spectrogram_transformer.encoder.layer.9.layernorm_after.weight False\n",
      "audio_spectrogram_transformer.encoder.layer.9.layernorm_after.bias False\n",
      "audio_spectrogram_transformer.encoder.layer.10.attention.attention.query.weight False\n",
      "audio_spectrogram_transformer.encoder.layer.10.attention.attention.query.bias False\n",
      "audio_spectrogram_transformer.encoder.layer.10.attention.attention.key.weight False\n",
      "audio_spectrogram_transformer.encoder.layer.10.attention.attention.key.bias False\n",
      "audio_spectrogram_transformer.encoder.layer.10.attention.attention.value.weight False\n",
      "audio_spectrogram_transformer.encoder.layer.10.attention.attention.value.bias False\n",
      "audio_spectrogram_transformer.encoder.layer.10.attention.output.dense.weight False\n",
      "audio_spectrogram_transformer.encoder.layer.10.attention.output.dense.bias False\n",
      "audio_spectrogram_transformer.encoder.layer.10.intermediate.dense.weight False\n",
      "audio_spectrogram_transformer.encoder.layer.10.intermediate.dense.bias False\n",
      "audio_spectrogram_transformer.encoder.layer.10.output.dense.weight False\n",
      "audio_spectrogram_transformer.encoder.layer.10.output.dense.bias False\n",
      "audio_spectrogram_transformer.encoder.layer.10.layernorm_before.weight False\n",
      "audio_spectrogram_transformer.encoder.layer.10.layernorm_before.bias False\n",
      "audio_spectrogram_transformer.encoder.layer.10.layernorm_after.weight False\n",
      "audio_spectrogram_transformer.encoder.layer.10.layernorm_after.bias False\n",
      "audio_spectrogram_transformer.encoder.layer.11.attention.attention.query.weight False\n",
      "audio_spectrogram_transformer.encoder.layer.11.attention.attention.query.bias False\n",
      "audio_spectrogram_transformer.encoder.layer.11.attention.attention.key.weight False\n",
      "audio_spectrogram_transformer.encoder.layer.11.attention.attention.key.bias False\n",
      "audio_spectrogram_transformer.encoder.layer.11.attention.attention.value.weight False\n",
      "audio_spectrogram_transformer.encoder.layer.11.attention.attention.value.bias False\n",
      "audio_spectrogram_transformer.encoder.layer.11.attention.output.dense.weight False\n",
      "audio_spectrogram_transformer.encoder.layer.11.attention.output.dense.bias False\n",
      "audio_spectrogram_transformer.encoder.layer.11.intermediate.dense.weight False\n",
      "audio_spectrogram_transformer.encoder.layer.11.intermediate.dense.bias False\n",
      "audio_spectrogram_transformer.encoder.layer.11.output.dense.weight False\n",
      "audio_spectrogram_transformer.encoder.layer.11.output.dense.bias False\n",
      "audio_spectrogram_transformer.encoder.layer.11.layernorm_before.weight False\n",
      "audio_spectrogram_transformer.encoder.layer.11.layernorm_before.bias False\n",
      "audio_spectrogram_transformer.encoder.layer.11.layernorm_after.weight False\n",
      "audio_spectrogram_transformer.encoder.layer.11.layernorm_after.bias False\n",
      "audio_spectrogram_transformer.layernorm.weight False\n",
      "audio_spectrogram_transformer.layernorm.bias False\n",
      "classifier.0.weight True\n",
      "classifier.0.bias True\n",
      "classifier.2.weight True\n",
      "classifier.2.bias True\n"
     ]
    }
   ],
   "source": [
    "for name, param in AST_model.named_parameters():\n",
    "     print(name, param.requires_grad)"
   ]
  },
  {
   "cell_type": "markdown",
   "metadata": {},
   "source": [
    "## Дообучение модели на наших данных"
   ]
  },
  {
   "cell_type": "code",
   "execution_count": 89,
   "metadata": {},
   "outputs": [
    {
     "name": "stderr",
     "output_type": "stream",
     "text": [
      "  0%|          | 0/2 [00:00<?, ?it/s]"
     ]
    },
    {
     "name": "stdout",
     "output_type": "stream",
     "text": [
      "epoch #22\n"
     ]
    },
    {
     "name": "stderr",
     "output_type": "stream",
     "text": [
      "100%|██████████| 163/163 [07:40<00:00,  2.82s/it]\n"
     ]
    },
    {
     "name": "stdout",
     "output_type": "stream",
     "text": [
      "[train] mean loss: 0.034494563501522496\n",
      "[train] f1:  0.9910690394710716\n"
     ]
    },
    {
     "name": "stderr",
     "output_type": "stream",
     "text": [
      "100%|██████████| 27/27 [01:15<00:00,  2.78s/it]\n"
     ]
    },
    {
     "name": "stdout",
     "output_type": "stream",
     "text": [
      "model was saved, epoch #1\n"
     ]
    },
    {
     "name": "stderr",
     "output_type": "stream",
     "text": [
      " 50%|█████     | 1/2 [08:58<08:58, 538.56s/it]"
     ]
    },
    {
     "name": "stdout",
     "output_type": "stream",
     "text": [
      "[val] mean loss:   0.6721315872338083\n",
      "[val] f1:    0.8557114187634538\n",
      "\n",
      "epoch #23\n"
     ]
    },
    {
     "name": "stderr",
     "output_type": "stream",
     "text": [
      "100%|██████████| 163/163 [07:41<00:00,  2.83s/it]\n"
     ]
    },
    {
     "name": "stdout",
     "output_type": "stream",
     "text": [
      "[train] mean loss: 0.018890754052614964\n",
      "[train] f1:  0.9959113445457316\n"
     ]
    },
    {
     "name": "stderr",
     "output_type": "stream",
     "text": [
      "100%|██████████| 27/27 [01:15<00:00,  2.78s/it]\n",
      "100%|██████████| 2/2 [17:55<00:00, 537.64s/it]\n"
     ]
    },
    {
     "name": "stdout",
     "output_type": "stream",
     "text": [
      "[val] mean loss:   0.7527912157001319\n",
      "[val] f1:    0.8484320323105695\n",
      "\n"
     ]
    }
   ],
   "source": [
    "from tqdm import tqdm\n",
    "from tqdm.notebook import trange\n",
    "import torch.optim as optim\n",
    "\n",
    "optimizer = optim.AdamW(AST_model.parameters(), lr=5e-4)\n",
    "#scheduler = optim.lr_scheduler.MultiStepLR(optimizer, milestones=[5, 10, 15], gamma=0.5)\n",
    "num_epochs = 10\n",
    "num_training_steps = num_epochs * len(train_loader)\n",
    "\n",
    "\n",
    "\n",
    "train_loss = []\n",
    "val_loss = []\n",
    "\n",
    "train_f1 = []\n",
    "val_f1 = []\n",
    "\n",
    "\n",
    "\n",
    "for epoch in tqdm(range(num_epochs), position=0, leave=True):\n",
    "    \n",
    "    AST_model.train()\n",
    "    \n",
    "    print(f'epoch #{epoch+1}')\n",
    "    loss_list = []\n",
    "    outputs = []\n",
    "    targets = []\n",
    "    \n",
    "    for i_batch, sample_batched in enumerate(tqdm(train_loader, position=0, leave=True)):\n",
    "        x, y = sample_batched\n",
    "\n",
    "        output = AST_model(x, labels = y)\n",
    "        outputs.append(output.logits.argmax(-1))\n",
    "\n",
    "        target = y\n",
    "        targets.append(target)\n",
    "        \n",
    "        loss = output.loss\n",
    "        loss_list.append(loss.item())\n",
    "        \n",
    "        loss.backward()\n",
    "\n",
    "        optimizer.step()\n",
    "        #scheduler.step()\n",
    "        optimizer.zero_grad()\n",
    "\n",
    "        \n",
    "    y_true = torch.hstack(targets).numpy(force=True)\n",
    "    y_pred = torch.hstack(outputs).numpy(force=True)\n",
    "\n",
    "    f1 = f1_score(y_true, y_pred, average='macro')\n",
    "\n",
    "    train_loss.append(np.mean(loss_list))\n",
    "    train_f1.append(f1)\n",
    "\n",
    "    print(f'[train] mean loss: {train_loss[-1]}')\n",
    "    print(f'[train] f1:  {f1}')\n",
    "    \n",
    "    AST_model.eval()\n",
    "    loss_list = []\n",
    "    outputs = []\n",
    "    targets = []\n",
    "    with torch.no_grad():\n",
    "        for i_batch, sample_batched in enumerate(tqdm(val_loader, position=0, leave=True)):\n",
    "            x, y = sample_batched\n",
    "            #optimizer.zero_grad()\n",
    "\n",
    "            output = AST_model(x, labels = y)\n",
    "            outputs.append(output.logits.argmax(-1))\n",
    "\n",
    "\n",
    "            target = y\n",
    "            targets.append(target)\n",
    "\n",
    "            loss = output.loss\n",
    "            loss_list.append(loss.item())\n",
    "\n",
    "\n",
    "        y_true = torch.hstack(targets).numpy(force=True)\n",
    "        y_pred = torch.hstack(outputs).numpy(force=True)\n",
    "        f1 = f1_score(y_true, y_pred, average='macro')\n",
    "\n",
    "            \n",
    "        val_loss.append(np.mean(loss_list))\n",
    "        val_f1.append(f1)\n",
    "        \n",
    "        best_val_f1 = max(val_f1)\n",
    "        #if f1 >= best_val_f1:\n",
    "            #print(f'model was saved, epoch #{epoch+1}')\n",
    "            #AST_model.save_pretrained(\"best_model_weights\", from_pt=True)\n",
    "        \n",
    "        print(f'[val] mean loss:   {val_loss[-1]}')\n",
    "        print(f'[val] f1:    {f1}', end=\"\\n\\n\")\n",
    "        \n",
    "        \n",
    "\n",
    "    \n",
    "#AST_model.save_pretrained(\"final_model_weights\", from_pt=True)"
   ]
  },
  {
   "cell_type": "code",
   "execution_count": 174,
   "metadata": {},
   "outputs": [],
   "source": [
    "def plot_curves():\n",
    "    \n",
    "    epochs = range(1, num_epochs+1)\n",
    "\n",
    "    fig, (ax_top, ax_bottom) = plt.subplots(nrows=2, ncols=1, figsize=(10, 10), sharex=True)\n",
    "\n",
    "    xticks = range(1, num_epochs+1, num_epochs // 10) if num_epochs > 10 else epochs\n",
    "\n",
    "    # draw loss\n",
    "    ax_top.plot(epochs, train_loss, 'r', label='train')\n",
    "    ax_top.plot(epochs, val_loss, 'b', label='validation')\n",
    "\n",
    "    ax_top.set(\n",
    "        title='Loss',\n",
    "        xlabel='Epoch number',\n",
    "        ylabel='Loss value',\n",
    "        ylim=[0, max(max(train_loss), max(val_loss)) + 1],\n",
    "    )\n",
    "    ax_top.legend(\n",
    "        title=\"Выборка\",\n",
    "    )\n",
    "    ax_top.grid()\n",
    "\n",
    "    # draw accuracy\n",
    "    ax_bottom.plot(epochs, train_f1, 'r', label='train')\n",
    "    ax_bottom.plot(epochs, val_f1, 'b', label='validation')\n",
    "\n",
    "    ax_bottom.set(\n",
    "        title='f1',\n",
    "        xlabel='Epoch number',\n",
    "        ylabel='Accuracy value',\n",
    "        xticks=xticks,\n",
    "        ylim=[0, 1],\n",
    "    )\n",
    "    ax_bottom.legend(\n",
    "        title=\"Выборка\",\n",
    "    )\n",
    "    ax_bottom.grid()\n",
    "\n",
    "    fig.suptitle(\"Кривые обучения\")\n",
    "\n",
    "    plt.show()"
   ]
  },
  {
   "cell_type": "code",
   "execution_count": 175,
   "metadata": {},
   "outputs": [
    {
     "data": {
      "image/png": "[encoded data removed]",
      "text/plain": [
       "<Figure size 720x720 with 2 Axes>"
      ]
     },
     "metadata": {
      "needs_background": "light"
     },
     "output_type": "display_data"
    }
   ],
   "source": [
    "plot_curves()"
   ]
  },
  {
   "cell_type": "markdown",
   "metadata": {},
   "source": [
    "## Формирование меток для теста"
   ]
  },
  {
   "cell_type": "code",
   "execution_count": 81,
   "metadata": {},
   "outputs": [],
   "source": [
    "test_dset = EventDetectionDataset(x_test, device=device)\n",
    "test_loader = DataLoader(test_dset, batch_size=1, shuffle=False, num_workers=num_workers)"
   ]
  },
  {
   "cell_type": "code",
   "execution_count": 82,
   "metadata": {},
   "outputs": [],
   "source": [
    "id_to_label = [label for label, i in label_to_id.items()]"
   ]
  },
  {
   "cell_type": "code",
   "execution_count": 86,
   "metadata": {},
   "outputs": [
    {
     "name": "stderr",
     "output_type": "stream",
     "text": [
      "100%|██████████| 3790/3790 [04:26<00:00, 14.22it/s]\n"
     ]
    }
   ],
   "source": [
    "results_lable = []\n",
    "with torch.no_grad():\n",
    "        for i_batch, sample_batched in enumerate(tqdm(test_loader, position=0, leave=True)):\n",
    "            x = sample_batched\n",
    "            #optimizer.zero_grad()\n",
    "            output = AST_model(x)\n",
    "            \n",
    "            predicted_class_idx = output.logits.argmax(-1).item()\n",
    "            results_lable.append(AST_model.config.id2label[predicted_class_idx])"
   ]
  },
  {
   "cell_type": "code",
   "execution_count": 87,
   "metadata": {},
   "outputs": [],
   "source": [
    "ans = pd.read_csv(test_csv)\n",
    "for filename, label in zip(os.listdir(test_folder), results_lable):\n",
    "    ans.loc[ans['fname']==filename, 'label'] = label"
   ]
  },
  {
   "cell_type": "code",
   "execution_count": 88,
   "metadata": {},
   "outputs": [],
   "source": [
    "ans.to_csv('ast_results.csv',index=False)"
   ]
  }
 ],
 "metadata": {
  "kernelspec": {
   "display_name": "Python 3",
   "language": "python",
   "name": "python3"
  },
  "language_info": {
   "codemirror_mode": {
    "name": "ipython",
    "version": 3
   },
   "file_extension": ".py",
   "mimetype": "text/x-python",
   "name": "python",
   "nbconvert_exporter": "python",
   "pygments_lexer": "ipython3",
   "version": "3.8.10"
  }
 },
 "nbformat": 4,
 "nbformat_minor": 4
}
